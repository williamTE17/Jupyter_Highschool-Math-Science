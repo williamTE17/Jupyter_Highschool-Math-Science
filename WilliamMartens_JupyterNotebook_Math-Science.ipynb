{
 "cells": [
  {
   "cell_type": "code",
   "execution_count": 22,
   "metadata": {},
   "outputs": [],
   "source": [
    "#ALGERA\n",
    "import math\n",
    "# PY MATH\n",
    "# https://docs.python.org/2/library/math.html\n",
    "# https://docs.python.org/3/library/math.html\n",
    "#    \n",
    "#    \n",
    "#    math.acos(x)\n",
    "#    math.asin(x)\n",
    "#   math.atan(x)\n",
    "\n",
    "#    Trigonometric functions\n",
    "#    \n",
    "#    math.acos(x)\n",
    "#    \n",
    "#        Return the arc cosine of x, in radians.\n",
    "#    \n",
    "#    math.asin(x)\n",
    "#    \n",
    "#        Return the arc sine of x, in radians.\n",
    "#    \n",
    "#    math.atan(x)\n",
    "#    \n",
    "#        Return the arc tangent of x, in radians.\n",
    "#    \n",
    "#    math.atan2(y, x)\n",
    "#    \n",
    "#        Return atan(y / x), in radians. The result is between -pi and pi. The vector in the plane from the origin to point (x, y) makes this angle with the positive X axis. The point of atan2() is that the signs of both inputs are known to it, so it can compute the correct quadrant for the angle. For example, atan(1) and atan2(1, 1) are both pi/4, but atan2(-1, -1) is -3*pi/4.\n",
    "#    \n",
    "#    math.cos(x)\n",
    "#    \n",
    "#        Return the cosine of x radians.\n",
    "#    \n",
    "#    math.hypot(x, y)\n",
    "#    \n",
    "#        Return the Euclidean norm, sqrt(x*x + y*y). This is the length of the vector from the origin to point (x, y).\n",
    "#    \n",
    "#    math.sin(x)\n",
    "#    \n",
    "#        Return the sine of x radians.\n",
    "#    \n",
    "#    math.tan(x)\n",
    "#    \n",
    "#        Return the tangent of x radians.\n",
    "#    \n",
    "#    "
   ]
  },
  {
   "cell_type": "code",
   "execution_count": 1,
   "metadata": {},
   "outputs": [
    {
     "name": "stdout",
     "output_type": "stream",
     "text": [
      "10\n",
      "\n",
      "\n",
      "1000\n",
      "\n",
      "\n"
     ]
    },
    {
     "data": {
      "text/plain": [
       "1000.0"
      ]
     },
     "execution_count": 1,
     "metadata": {},
     "output_type": "execute_result"
    }
   ],
   "source": [
    "import math\n",
    "\n",
    "# Cubic Equaiton (Algebra)\n",
    "\n",
    "x = 10\n",
    "x3 = x*x*x\n",
    "print(x)\n",
    "print(\"\\n\")\n",
    "print(x3)\n",
    "print(\"\\n\")\n",
    "\n",
    "\n",
    "math.pow(10, 3)"
   ]
  },
  {
   "cell_type": "code",
   "execution_count": 2,
   "metadata": {},
   "outputs": [
    {
     "name": "stdout",
     "output_type": "stream",
     "text": [
      "\n",
      "a: 8 \n",
      "a2: 64\n"
     ]
    }
   ],
   "source": [
    "a = 8\n",
    "c = 16\n",
    "a2 = a*a\n",
    "\n",
    "math.sin(c)\n",
    "math.pow(a, 2)\n",
    "\n",
    "print(\"\\na:\",a,\"\\na2:\",a2)\n"
   ]
  },
  {
   "cell_type": "code",
   "execution_count": 3,
   "metadata": {},
   "outputs": [
    {
     "name": "stdout",
     "output_type": "stream",
     "text": [
      "a(Botre Katet): 8\n",
      "b(Close katet): 16\n",
      "c(Hypoteneuse): 18\n",
      "x: 3\n",
      "x3 +ax2 + b*x + c = 0 \n",
      "\n",
      "sinV: 0.4444444444444444 \n",
      "cosV: 0.8888888888888888 \n",
      "tanV: 0.5 \n",
      "\n",
      "\n",
      "a: 8 \n",
      "ax: 24 \n",
      "ax2: 512 \n",
      "b: 16 \n",
      "bx: 48 \n",
      "x: 3 \n",
      "x2: 9 \n",
      "x3: 27 \n",
      "\n"
     ]
    }
   ],
   "source": [
    "# Cubic Equation:\n",
    "\n",
    "#a,b,c------------\n",
    "a = int(input(\"a(Botre Katet): \"))\n",
    "b = int(input(\"b(Close katet): \"))\n",
    "c = int(input(\"c(Hypoteneuse): \"))\n",
    "#-----------------\n",
    "\n",
    "#x,x2,x3----------\n",
    "x  = int(input(\"x: \"))\n",
    "x2 = int(pow(x,2))\n",
    "x3 = int(pow(x,3))\n",
    "\n",
    "#------------------\n",
    "\n",
    "#ax,ax2,bx,-------\n",
    "ax = int(a*x)\n",
    "ax2 = int(pow(a,x))\n",
    "bx = int(b*x)\n",
    "#-----------------\n",
    "\n",
    "sinV = (a/c)\n",
    "cosV = (b/c)\n",
    "tanV = (a/b)\n",
    "\n",
    "print(\"x3 +ax2 + b*x + c = 0\",\"\\n\")\n",
    "print(\"sinV:\",sinV,\"\\ncosV:\",cosV,\"\\ntanV:\",tanV,\"\\n\")\n",
    "print(\"\\na:\",a,\"\\nax:\",ax,\"\\nax2:\",ax2,\"\\nb:\",b,\"\\nbx:\",bx,\"\\nx:\",x,\"\\nx2:\",x2,\"\\nx3:\",x3,\"\\n\")\n",
    "\n",
    "# might not be 100% correct / accurate, but this is just a quick notebook I made really late at night, (in 1 night, \n",
    "# -to be specific.)"
   ]
  },
  {
   "cell_type": "code",
   "execution_count": null,
   "metadata": {},
   "outputs": [],
   "source": []
  }
 ],
 "metadata": {
  "kernelspec": {
   "display_name": "Python 3",
   "language": "python",
   "name": "python3"
  },
  "language_info": {
   "codemirror_mode": {
    "name": "ipython",
    "version": 3
   },
   "file_extension": ".py",
   "mimetype": "text/x-python",
   "name": "python",
   "nbconvert_exporter": "python",
   "pygments_lexer": "ipython3",
   "version": "3.7.3"
  }
 },
 "nbformat": 4,
 "nbformat_minor": 2
}
